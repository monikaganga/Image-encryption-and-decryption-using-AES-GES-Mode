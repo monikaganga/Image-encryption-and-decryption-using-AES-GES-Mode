{
 "cells": [
  {
   "cell_type": "code",
   "execution_count": 4,
   "metadata": {},
   "outputs": [
    {
     "name": "stdout",
     "output_type": "stream",
     "text": [
      "Requirement already satisfied: Pillow in c:\\users\\deepika\\anaconda3\\lib\\site-packages (7.0.0)\n",
      "Requirement already satisfied: pycryptodomex in c:\\users\\deepika\\anaconda3\\lib\\site-packages (3.18.0)\n",
      "Note: you may need to restart the kernel to use updated packages.\n"
     ]
    },
    {
     "name": "stderr",
     "output_type": "stream",
     "text": [
      "\n",
      "[notice] A new release of pip is available: 23.1.2 -> 23.2.1\n",
      "[notice] To update, run: python.exe -m pip install --upgrade pip\n"
     ]
    }
   ],
   "source": [
    "pip install Pillow pycryptodomex"
   ]
  },
  {
   "cell_type": "code",
   "execution_count": null,
   "metadata": {},
   "outputs": [],
   "source": []
  },
  {
   "cell_type": "code",
   "execution_count": null,
   "metadata": {},
   "outputs": [],
   "source": []
  },
  {
   "cell_type": "code",
   "execution_count": 1,
   "metadata": {},
   "outputs": [
    {
     "name": "stdout",
     "output_type": "stream",
     "text": [
      "Requirement already satisfied: pip in c:\\users\\deepika\\anaconda3\\lib\\site-packages (23.2.1)\n",
      "Note: you may need to restart the kernel to use updated packages.\n"
     ]
    },
    {
     "name": "stderr",
     "output_type": "stream",
     "text": [
      "DEPRECATION: pyodbc 4.0.0-unsupported has a non-standard version number. pip 23.3 will enforce this behaviour change. A possible replacement is to upgrade to a newer version of pyodbc or contact the author to suggest that they release a version with a conforming version number. Discussion can be found at https://github.com/pypa/pip/issues/12063\n"
     ]
    }
   ],
   "source": [
    "pip install opencv-python"
   ]
  },
  {
   "cell_type": "code",
   "execution_count": 2,
   "metadata": {},
   "outputs": [
    {
     "name": "stdout",
     "output_type": "stream",
     "text": [
      "Requirement already satisfied: opencv-python in c:\\users\\deepika\\anaconda3\\lib\\site-packages (4.8.0.74)\n",
      "Requirement already satisfied: numpy>=1.17.0 in c:\\users\\deepika\\anaconda3\\lib\\site-packages (from opencv-python) (1.18.1)\n",
      "Note: you may need to restart the kernel to use updated packages.\n"
     ]
    },
    {
     "name": "stderr",
     "output_type": "stream",
     "text": [
      "DEPRECATION: pyodbc 4.0.0-unsupported has a non-standard version number. pip 23.3 will enforce this behaviour change. A possible replacement is to upgrade to a newer version of pyodbc or contact the author to suggest that they release a version with a conforming version number. Discussion can be found at https://github.com/pypa/pip/issues/12063\n"
     ]
    }
   ],
   "source": [
    "pip install opencv-python"
   ]
  },
  {
   "cell_type": "code",
   "execution_count": 2,
   "metadata": {},
   "outputs": [],
   "source": [
    "# final code without perfect decryption\n",
    "import tkinter as tk\n",
    "from tkinter import filedialog\n",
    "import cv2\n",
    "import numpy as np\n",
    "from cryptography.hazmat.primitives.ciphers import Cipher, algorithms, modes\n",
    "from cryptography.hazmat.primitives.ciphers.aead import AESGCM\n",
    "from cryptography.hazmat.primitives import hashes\n",
    "from cryptography.hazmat.primitives.kdf.pbkdf2 import PBKDF2HMAC\n",
    "from cryptography.hazmat.backends import default_backend\n",
    "from PIL import Image, ImageTk\n",
    "import os\n",
    "\n",
    "\n",
    "def open_image():\n",
    "    file_path = filedialog.askopenfilename(filetypes=[(\"Image files\", \"*.png *.jpg *.jpeg\")])\n",
    "    if file_path:\n",
    "        image = Image.open(file_path)\n",
    "        image = image.resize((400, 400))  # Resize for display purposes\n",
    "        image_tk = ImageTk.PhotoImage(image)\n",
    "        input_image_label.config(image=image_tk)\n",
    "        input_image_label.image = image_tk  # Keep a reference to avoid garbage collection\n",
    "        encrypt_button.config(state=tk.NORMAL)\n",
    "\n",
    "\n",
    "# Function to encrypt the image\n",
    "def encrypt_image():\n",
    "    # Open file dialog to select input image\n",
    "    input_file_path = filedialog.askopenfilename(title=\"Select Input Image\")\n",
    "    if not input_file_path:\n",
    "        return\n",
    "\n",
    "    # Retrieve the encryption key from the entry field\n",
    "    encryption_key = encryption_key_entry.get()\n",
    "\n",
    "    # Load original image\n",
    "    imageOrig = cv2.imread(input_file_path)\n",
    "    rowOrig, columnOrig, depthOrig = imageOrig.shape\n",
    "\n",
    "    # Convert original image data to bytes\n",
    "    imageOrigBytes = imageOrig.tobytes()\n",
    "\n",
    "    # Generate random salt\n",
    "    salt = os.urandom(16)\n",
    "\n",
    "    # Generate key from password using PBKDF2\n",
    "    password = encryption_key.encode()  # Convert the key to bytes\n",
    "    kdf = PBKDF2HMAC(\n",
    "        algorithm=hashes.SHA256(),\n",
    "        length=32,\n",
    "        salt=salt,\n",
    "        iterations=100000,\n",
    "    )\n",
    "    key = kdf.derive(password)\n",
    "\n",
    "    # Generate random nonce\n",
    "    nonce = os.urandom(12)\n",
    "\n",
    "    # Encrypt\n",
    "    cipher = Cipher(algorithms.AES(key), modes.GCM(nonce), backend=default_backend())\n",
    "    encryptor = cipher.encryptor()\n",
    "    ciphertext = encryptor.update(imageOrigBytes) + encryptor.finalize()\n",
    "\n",
    "    # Generate authentication tag\n",
    "    tag = encryptor.tag[:16]  # Limit the tag length to 16 bytes\n",
    "\n",
    "    # Convert ciphertext bytes to encrypted image data\n",
    "    imageEncrypted = np.frombuffer(ciphertext, dtype=np.uint8).reshape(rowOrig, columnOrig, depthOrig)\n",
    "\n",
    "    # Display encrypted image\n",
    "    cv2.imshow(\"Encrypted image\", imageEncrypted)\n",
    "    cv2.waitKey()\n",
    "    print(tag)\n",
    "\n",
    "    # Save the encrypted image\n",
    "    output_file_path = filedialog.asksaveasfilename(title=\"Save Encrypted Image\")\n",
    "    if output_file_path:\n",
    "        cv2.imwrite(output_file_path, imageEncrypted)\n",
    "\n",
    "    # Close all windows\n",
    "    cv2.destroyAllWindows()\n",
    "\n",
    "\n",
    "# Function to decrypt the image\n",
    "def decrypt_image():\n",
    "    # Open file dialog to select encrypted image\n",
    "    input_file_path = filedialog.askopenfilename(title=\"Select Encrypted Image\")\n",
    "    if not input_file_path:\n",
    "        return\n",
    "\n",
    "    # Retrieve the decryption key from the entry field\n",
    "    decryption_key = decryption_key_entry.get()\n",
    "\n",
    "    # Load encrypted image\n",
    "    imageEncrypted = cv2.imread(input_file_path)\n",
    "    rowEncrypted, columnOrig, depthOrig = imageEncrypted.shape\n",
    "    \n",
    "    # Save the decrypted image\n",
    "    output_file_path = filedialog.asksaveasfilename(title=\"Save Decrypted Image\")\n",
    "    if output_file_path:\n",
    "        cv2.imwrite(output_file_path, decryptedImage)\n",
    "\n",
    "    # Convert encrypted image data to bytes\n",
    "    encryptedBytes = imageEncrypted.tobytes()\n",
    "\n",
    "    # Generate random salt\n",
    "    salt = os.urandom(16)\n",
    "\n",
    "    # Generate key from password using PBKDF2\n",
    "    password = decryption_key.encode()  # Convert the key to bytes\n",
    "    kdf = PBKDF2HMAC(\n",
    "        algorithm=hashes.SHA256(),\n",
    "        length=32,\n",
    "        salt=salt,\n",
    "        iterations=100000,\n",
    "    )\n",
    "    key = kdf.derive(password)\n",
    "\n",
    "    # Generate random nonce\n",
    "    nonce = os.urandom(12)\n",
    "\n",
    "    # Extract the authentication tag from the encrypted image\n",
    "    tag = encryptedBytes[-16:]\n",
    "    # tag=input(\"enter tag:\")\n",
    "    print(tag)\n",
    "\n",
    "    ciphertext = encryptedBytes[:-16]\n",
    "\n",
    "    # Decrypt\n",
    "    cipher = Cipher(algorithms.AES(key), modes.GCM(nonce, tag), backend=default_backend())\n",
    "    decryptor = cipher.decryptor()\n",
    "    decryptedData = decryptor.update(ciphertext) + decryptor.finalize()\n",
    "\n",
    "    # Remove padding\n",
    "    block_size = algorithms.AES.block_size // 8\n",
    "    padding_length = decryptedData[-1]\n",
    "    decryptedDataUnpadded = decryptedData[:-padding_length] if padding_length < block_size else decryptedData\n",
    "\n",
    "    # Convert bytes to decrypted image data\n",
    "    decryptedImage = np.frombuffer(decryptedDataUnpadded, dtype=np.uint8).reshape(rowEncrypted, columnOrig,\n",
    "                                                                                   depthOrig)\n",
    "\n",
    "    # Display decrypted image\n",
    "    cv2.imshow(\"Decrypted Image\", decryptedImage)\n",
    "    cv2.waitKey()\n",
    "\n",
    "    # Save the decrypted image\n",
    "    output_file_path = filedialog.asksaveasfilename(title=\"Save Decrypted Image\")\n",
    "    if output_file_path:\n",
    "        cv2.imwrite(output_file_path, decryptedImage)\n",
    "\n",
    "    # Close all windows\n",
    "    cv2.destroyAllWindows()\n",
    "\n",
    "\n",
    "# Create the main window\n",
    "root = tk.Tk()\n",
    "root.title(\"Image Encryption/Decryption\")\n",
    "\n",
    "# Open image\n",
    "open_image_button = tk.Button(root, text=\"Open Image\", command=open_image)\n",
    "open_image_button.pack(pady=10)\n",
    "input_image_label = tk.Label(root)\n",
    "input_image_label.pack(pady=10)\n",
    "\n",
    "# Create entry fields for encryption and decryption keys\n",
    "encryption_key_entry_label = tk.Label(root, text=\"Encryption Key:\")\n",
    "encryption_key_entry_label.pack()\n",
    "encryption_key_entry = tk.Entry(root, show=\"*\")\n",
    "encryption_key_entry.pack(pady=5)\n",
    "\n",
    "# Create buttons for encryption and decryption\n",
    "encrypt_button = tk.Button(root, text=\"Encrypt Image\", command=encrypt_image, state=tk.DISABLED)\n",
    "encrypt_button.pack(pady=10)\n",
    "\n",
    "decrypt_button = tk.Button(root, text=\"Decrypt Image\", command=decrypt_image)\n",
    "decrypt_button.pack(pady=10)\n",
    "\n",
    "decryption_key_entry_label = tk.Label(root, text=\"Decryption Key:\")\n",
    "decryption_key_entry_label.pack()\n",
    "decryption_key_entry = tk.Entry(root, show=\"*\")\n",
    "decryption_key_entry.pack(pady=5)\n",
    "\n",
    "# Run the GUI main loop\n",
    "root.mainloop()\n"
   ]
  }
 ],
 "metadata": {
  "kernelspec": {
   "display_name": "Python 3",
   "language": "python",
   "name": "python3"
  },
  "language_info": {
   "codemirror_mode": {
    "name": "ipython",
    "version": 3
   },
   "file_extension": ".py",
   "mimetype": "text/x-python",
   "name": "python",
   "nbconvert_exporter": "python",
   "pygments_lexer": "ipython3",
   "version": "3.7.6"
  }
 },
 "nbformat": 4,
 "nbformat_minor": 4
}
